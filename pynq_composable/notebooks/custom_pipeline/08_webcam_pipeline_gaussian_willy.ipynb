{
 "cells": [
  {
   "cell_type": "markdown",
   "metadata": {},
   "source": [
    "## Download Composable Overlay <a class=\"anchor\" id=\"download\"></a>\n",
    "\n",
    "Import the pynq video libraries as well as Composable class and the drivers for the IP.\n",
    "\n",
    "Download the Composable Overlay using `pynq.Overlay` and grab a handler to the `composable` hierarchy"
   ]
  },
  {
   "cell_type": "code",
   "execution_count": 1,
   "metadata": {},
   "outputs": [
    {
     "data": {
      "application/javascript": [
       "\n",
       "try {\n",
       "require(['notebook/js/codecell'], function(codecell) {\n",
       "  codecell.CodeCell.options_default.highlight_modes[\n",
       "      'magic_text/x-csrc'] = {'reg':[/^%%microblaze/]};\n",
       "  Jupyter.notebook.events.one('kernel_ready.Kernel', function(){\n",
       "      Jupyter.notebook.get_cells().map(function(cell){\n",
       "          if (cell.cell_type == 'code'){ cell.auto_highlight(); } }) ;\n",
       "  });\n",
       "});\n",
       "} catch (e) {};\n"
      ]
     },
     "metadata": {},
     "output_type": "display_data"
    },
    {
     "data": {
      "application/javascript": [
       "\n",
       "try {\n",
       "require(['notebook/js/codecell'], function(codecell) {\n",
       "  codecell.CodeCell.options_default.highlight_modes[\n",
       "      'magic_text/x-csrc'] = {'reg':[/^%%pybind11/]};\n",
       "  Jupyter.notebook.events.one('kernel_ready.Kernel', function(){\n",
       "      Jupyter.notebook.get_cells().map(function(cell){\n",
       "          if (cell.cell_type == 'code'){ cell.auto_highlight(); } }) ;\n",
       "  });\n",
       "});\n",
       "} catch (e) {};\n"
      ]
     },
     "metadata": {},
     "output_type": "display_data"
    }
   ],
   "source": [
    "from pynq import Overlay\n",
    "from pynq.lib.video import *\n",
    "from pynq_composable import *\n",
    "from ipywidgets import widgets, interact, FloatSlider, IntSlider\n",
    "from pynq.ps import CPU_ARCH, ZYNQ_ARCH\n",
    "\n",
    "ol = Overlay(\"cv_dfx_4_pr.bit\")\n",
    "#ol = Overlay(\"/home/xilinx/jupyter_notebooks/pynq-composable/overlay/cv_dfx_4_pr.bit\")\n",
    "\n",
    "cpipe = ol.composable"
   ]
  },
  {
   "cell_type": "markdown",
   "metadata": {},
   "source": [
    "## Configure Webcam <a class=\"anchor\" id=\"setup_cam\"></a>\n",
    "\n",
    "Configure the Webcam and with `VideoStream` class, and start the video\n",
    "\n",
    "<div class=\"alert alert-heading alert-danger\">\n",
    "    <h4 class=\"alert-heading\">Warning:</h4>\n",
    "\n",
    "Failure to connect HDMI output cable to an screen may cause the notebook to hang\n",
    "</div>"
   ]
  },
  {
   "cell_type": "code",
   "execution_count": 2,
   "metadata": {},
   "outputs": [],
   "source": [
    "video = VideoStream(ol, source=VSource.OpenCV)\n",
    "\n",
    "video.start()"
   ]
  },
  {
   "cell_type": "markdown",
   "metadata": {},
   "source": [
    "## Compose Simple Pipeline <a class=\"anchor\" id=\"simple-pipeline\"></a>"
   ]
  },
  {
   "cell_type": "markdown",
   "metadata": {},
   "source": [
    "Grab handlers to LUT and compose"
   ]
  },
  {
   "cell_type": "code",
   "execution_count": 3,
   "metadata": {},
   "outputs": [
    {
     "name": "stdout",
     "output_type": "stream",
     "text": [
      "Parent class: (<class 'pynq.overlay.DefaultHierarchy'>,), driver: <class 'pynq_composable.composable.Composable'>\n",
      "Parent class: (<class 'pynq_composable.libs.VitisVisionIP'>,), driver: <class 'pynq_composable.libs.Gaussianfilter'>\n",
      "Parent class: (<class 'pynq.overlay.DefaultIP'>,), driver: <class 'pynq_composable.libs.VitisVisionIP'>\n"
     ]
    }
   ],
   "source": [
    "print(f\"Parent class: {cpipe.__class__.__bases__}, driver: {type(cpipe)}\")\n",
    "\n",
    "gauss = cpipe.gaussianfilter_accel\n",
    "print(f\"Parent class: {gauss.__class__.__bases__}, driver: {type(gauss)}\")\n",
    "\n",
    "rgb2gray = cpipe.rgb2gray_accel\n",
    "print(f\"Parent class: {rgb2gray.__class__.__bases__}, driver: {type(rgb2gray)}\")"
   ]
  },
  {
   "cell_type": "code",
   "execution_count": 5,
   "metadata": {},
   "outputs": [
    {
     "name": "stdout",
     "output_type": "stream",
     "text": [
      "Willy Compose\n",
      "[]\n",
      "i 0\n",
      "l0 <pynq.lib.video.pipeline.PixelPacker object at 0xa1c83a60>\n",
      "i 1\n",
      "l0 <pynq_composable.libs.Gaussianfilter object at 0xa2291ce8>\n",
      "i 2\n",
      "l0 <pynq_composable.libs.VitisVisionIP object at 0xa2291d00>\n",
      "i 3\n",
      "l0 <pynq.lib.video.pipeline.ColorConverter object at 0xb503bac0>\n",
      "ip <pynq.lib.video.pipeline.PixelPacker object at 0xa1c83a60>\n",
      "ip <pynq_composable.libs.Gaussianfilter object at 0xa2291ce8>\n",
      "ip.start()\n",
      "ip <pynq_composable.libs.VitisVisionIP object at 0xa2291d00>\n",
      "ip.start()\n",
      "ip <pynq.lib.video.pipeline.ColorConverter object at 0xb503bac0>\n"
     ]
    },
    {
     "data": {
      "image/svg+xml": [
       "<?xml version=\"1.0\" encoding=\"UTF-8\" standalone=\"no\"?>\n",
       "<!DOCTYPE svg PUBLIC \"-//W3C//DTD SVG 1.1//EN\"\n",
       " \"http://www.w3.org/Graphics/SVG/1.1/DTD/svg11.dtd\">\n",
       "<!-- Generated by graphviz version 2.43.0 (0)\n",
       " -->\n",
       "<!-- Title: %1 Pages: 1 -->\n",
       "<svg width=\"864pt\" height=\"44pt\"\n",
       " viewBox=\"0.00 0.00 864.00 44.00\" xmlns=\"http://www.w3.org/2000/svg\" xmlns:xlink=\"http://www.w3.org/1999/xlink\">\n",
       "<g id=\"graph0\" class=\"graph\" transform=\"scale(1 1) rotate(0) translate(4 40)\">\n",
       "<title>%1</title>\n",
       "<polygon fill=\"white\" stroke=\"transparent\" points=\"-4,4 -4,-40 860,-40 860,4 -4,4\"/>\n",
       "<!-- hdmi_sink_in -->\n",
       "<g id=\"node1\" class=\"node\">\n",
       "<title>hdmi_sink_in</title>\n",
       "<polygon fill=\"none\" stroke=\"black\" points=\"109,-36 0,-36 0,0 109,0 109,-36\"/>\n",
       "<text text-anchor=\"middle\" x=\"54.5\" y=\"-14.3\" font-family=\"Times,serif\" font-size=\"14.00\">hdmi_sink_in</text>\n",
       "</g>\n",
       "<!-- gaussianfilter_accel -->\n",
       "<g id=\"node2\" class=\"node\">\n",
       "<title>gaussianfilter_accel</title>\n",
       "<polygon fill=\"none\" stroke=\"black\" points=\"385,-36 227,-36 227,0 385,0 385,-36\"/>\n",
       "<text text-anchor=\"middle\" x=\"306\" y=\"-14.3\" font-family=\"Times,serif\" font-size=\"14.00\">gaussianfilter_accel</text>\n",
       "</g>\n",
       "<!-- hdmi_sink_in&#45;&gt;gaussianfilter_accel -->\n",
       "<g id=\"edge1\" class=\"edge\">\n",
       "<title>hdmi_sink_in&#45;&gt;gaussianfilter_accel</title>\n",
       "<path fill=\"none\" stroke=\"green\" d=\"M109.02,-18C140.44,-18 180.91,-18 216.91,-18\"/>\n",
       "<polygon fill=\"green\" stroke=\"green\" points=\"216.93,-21.5 226.93,-18 216.93,-14.5 216.93,-21.5\"/>\n",
       "<text text-anchor=\"start\" x=\"127\" y=\"-21.8\" font-family=\"Times,serif\" font-size=\"14.00\" fill=\"white\">ci=1 pi=14</text>\n",
       "</g>\n",
       "<!-- rgb2gray_accel -->\n",
       "<g id=\"node3\" class=\"node\">\n",
       "<title>rgb2gray_accel</title>\n",
       "<polygon fill=\"none\" stroke=\"black\" points=\"628,-36 503,-36 503,0 628,0 628,-36\"/>\n",
       "<text text-anchor=\"middle\" x=\"565.5\" y=\"-14.3\" font-family=\"Times,serif\" font-size=\"14.00\">rgb2gray_accel</text>\n",
       "</g>\n",
       "<!-- gaussianfilter_accel&#45;&gt;rgb2gray_accel -->\n",
       "<g id=\"edge2\" class=\"edge\">\n",
       "<title>gaussianfilter_accel&#45;&gt;rgb2gray_accel</title>\n",
       "<path fill=\"none\" stroke=\"green\" d=\"M385.31,-18C419.5,-18 459.33,-18 492.75,-18\"/>\n",
       "<polygon fill=\"green\" stroke=\"green\" points=\"492.9,-21.5 502.9,-18 492.9,-14.5 492.9,-21.5\"/>\n",
       "<text text-anchor=\"start\" x=\"403\" y=\"-21.8\" font-family=\"Times,serif\" font-size=\"14.00\" fill=\"white\">ci=14 pi=2</text>\n",
       "</g>\n",
       "<!-- hdmi_sink_out -->\n",
       "<g id=\"node4\" class=\"node\">\n",
       "<title>hdmi_sink_out</title>\n",
       "<polygon fill=\"none\" stroke=\"black\" points=\"856,-36 737,-36 737,0 856,0 856,-36\"/>\n",
       "<text text-anchor=\"middle\" x=\"796.5\" y=\"-14.3\" font-family=\"Times,serif\" font-size=\"14.00\">hdmi_sink_out</text>\n",
       "</g>\n",
       "<!-- rgb2gray_accel&#45;&gt;hdmi_sink_out -->\n",
       "<g id=\"edge3\" class=\"edge\">\n",
       "<title>rgb2gray_accel&#45;&gt;hdmi_sink_out</title>\n",
       "<path fill=\"none\" stroke=\"green\" d=\"M628.17,-18C658.52,-18 695.21,-18 726.49,-18\"/>\n",
       "<polygon fill=\"green\" stroke=\"green\" points=\"726.88,-21.5 736.88,-18 726.88,-14.5 726.88,-21.5\"/>\n",
       "<text text-anchor=\"start\" x=\"646\" y=\"-21.8\" font-family=\"Times,serif\" font-size=\"14.00\" fill=\"white\">ci=2 pi=1</text>\n",
       "</g>\n",
       "</g>\n",
       "</svg>\n"
      ],
      "text/plain": [
       "<graphviz.graphs.Digraph at 0xa2291b20>"
      ]
     },
     "execution_count": 5,
     "metadata": {},
     "output_type": "execute_result"
    }
   ],
   "source": [
    "cpipe.compose([cpipe.hdmi_sink_in, gauss, rgb2gray, cpipe.hdmi_sink_out])\n",
    "cpipe.graph"
   ]
  },
  {
   "cell_type": "markdown",
   "metadata": {},
   "source": [
    "## Stop Webcam Video <a class=\"anchor\" id=\"stop_web\"></a>\n",
    "\n",
    "Finally stop the video stream\n",
    "\n",
    "<div class=\"alert alert-heading alert-danger\">\n",
    "    <h4 class=\"alert-heading\">Warning:</h4>\n",
    "\n",
    "Failure to stop video stream may hang the board \n",
    "when trying to download another bitstream onto the FPGA\n",
    "</div>"
   ]
  },
  {
   "cell_type": "code",
   "execution_count": null,
   "metadata": {},
   "outputs": [],
   "source": [
    "video.stop()\n",
    "ol.free()"
   ]
  },
  {
   "cell_type": "markdown",
   "metadata": {},
   "source": [
    "----\n",
    "\n",
    "## Conclusion <a class=\"anchor\" id=\"conclusion\"></a>\n",
    "\n",
    "This notebook has shown how to compose a video pipeline using a Webcam as a video source\n",
    "\n",
    "[⬅️ Advanced Features](07_advanced_features.ipynb) | | "
   ]
  },
  {
   "cell_type": "markdown",
   "metadata": {},
   "source": [
    "Copyright &copy; 2021 Xilinx, Inc\n",
    "\n",
    "SPDX-License-Identifier: BSD-3-Clause\n",
    "\n",
    "----"
   ]
  }
 ],
 "metadata": {
  "kernelspec": {
   "display_name": "Python 3",
   "language": "python",
   "name": "python3"
  },
  "language_info": {
   "codemirror_mode": {
    "name": "ipython",
    "version": 3
   },
   "file_extension": ".py",
   "mimetype": "text/x-python",
   "name": "python",
   "nbconvert_exporter": "python",
   "pygments_lexer": "ipython3",
   "version": "3.8.2"
  },
  "widgets": {
   "application/vnd.jupyter.widget-state+json": {
    "state": {},
    "version_major": 2,
    "version_minor": 0
   }
  }
 },
 "nbformat": 4,
 "nbformat_minor": 4
}
