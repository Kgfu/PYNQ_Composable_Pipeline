{
 "cells": [
  {
   "cell_type": "markdown",
   "id": "4b2b4d92-e3c1-48be-9e5a-75b8074f6383",
   "metadata": {},
   "source": [
    "# Composable Overlay Tutorial (sw)"
   ]
  },
  {
   "cell_type": "code",
   "execution_count": 1,
   "id": "1caadd0e-28d8-491f-a091-422ef66ac7fd",
   "metadata": {},
   "outputs": [
    {
     "data": {
      "application/javascript": [
       "\n",
       "try {\n",
       "require(['notebook/js/codecell'], function(codecell) {\n",
       "  codecell.CodeCell.options_default.highlight_modes[\n",
       "      'magic_text/x-csrc'] = {'reg':[/^%%microblaze/]};\n",
       "  Jupyter.notebook.events.one('kernel_ready.Kernel', function(){\n",
       "      Jupyter.notebook.get_cells().map(function(cell){\n",
       "          if (cell.cell_type == 'code'){ cell.auto_highlight(); } }) ;\n",
       "  });\n",
       "});\n",
       "} catch (e) {};\n"
      ]
     },
     "metadata": {},
     "output_type": "display_data"
    },
    {
     "data": {
      "application/javascript": [
       "\n",
       "try {\n",
       "require(['notebook/js/codecell'], function(codecell) {\n",
       "  codecell.CodeCell.options_default.highlight_modes[\n",
       "      'magic_text/x-csrc'] = {'reg':[/^%%pybind11/]};\n",
       "  Jupyter.notebook.events.one('kernel_ready.Kernel', function(){\n",
       "      Jupyter.notebook.get_cells().map(function(cell){\n",
       "          if (cell.cell_type == 'code'){ cell.auto_highlight(); } }) ;\n",
       "  });\n",
       "});\n",
       "} catch (e) {};\n"
      ]
     },
     "metadata": {},
     "output_type": "display_data"
    }
   ],
   "source": [
    "from pynq import Overlay, allocate\n",
    "import matplotlib.pyplot as plt\n",
    "import pynq_composable\n",
    "import numpy as np\n",
    "import fir"
   ]
  },
  {
   "cell_type": "markdown",
   "id": "605ada1d-1e1c-4c84-befe-d25fcb2b3758",
   "metadata": {},
   "source": [
    "Download the overlay onto the FPGA"
   ]
  },
  {
   "cell_type": "code",
   "execution_count": 6,
   "id": "16652055-130e-4886-b96d-4bdc206ab263",
   "metadata": {},
   "outputs": [],
   "source": [
    "ol = Overlay(\"fir.bit\")"
   ]
  },
  {
   "cell_type": "markdown",
   "id": "7479d888-a370-448e-b1cb-7537fc422b43",
   "metadata": {},
   "source": [
    "Create composable object `cfilter`"
   ]
  },
  {
   "cell_type": "code",
   "execution_count": 7,
   "id": "195267ba-b98d-4408-8eaf-be1406a39a30",
   "metadata": {},
   "outputs": [],
   "source": [
    "cfilter = ol.filter"
   ]
  },
  {
   "cell_type": "markdown",
   "id": "ac11d2ec-8ec9-4a6b-b596-de20974fdc8e",
   "metadata": {},
   "source": [
    "Explore IP available for composition"
   ]
  },
  {
   "cell_type": "code",
   "execution_count": 8,
   "id": "5fa32d4c-441d-4e95-9998-d47f745e5da8",
   "metadata": {},
   "outputs": [
    {
     "data": {
      "application/json": {
       "axis_data_fifo [loaded]": {
        "ci": [
         5
        ],
        "dfx": false,
        "loaded": true,
        "modtype": "axis_data_fifo",
        "pi": [
         0
        ]
       },
       "fir_bandpass [loaded]": {
        "ci": [
         4
        ],
        "dfx": false,
        "loaded": true,
        "modtype": "fir_compiler",
        "pi": [
         2
        ]
       },
       "fir_highpass [loaded]": {
        "ci": [
         2
        ],
        "dfx": false,
        "loaded": true,
        "modtype": "fir_compiler",
        "pi": [
         4
        ]
       },
       "fir_lowpass [loaded]": {
        "ci": [
         1
        ],
        "dfx": false,
        "loaded": true,
        "modtype": "fir_compiler",
        "pi": [
         3
        ]
       },
       "fir_stopband [loaded]": {
        "ci": [
         0
        ],
        "dfx": false,
        "loaded": true,
        "modtype": "fir_compiler",
        "pi": [
         5
        ]
       },
       "ps_in [loaded][default]": {
        "ci": [
         3
        ],
        "default": true,
        "dfx": false,
        "fullpath": "axi_dma",
        "loaded": true,
        "modtype": "axi_dma"
       },
       "ps_out [loaded][default]": {
        "default": true,
        "dfx": false,
        "fullpath": "axi_dma",
        "loaded": true,
        "modtype": "axi_dma",
        "pi": [
         1
        ]
       }
      },
      "text/plain": [
       "{'fir_stopband': {'ci': [0],\n",
       "  'dfx': False,\n",
       "  'loaded': True,\n",
       "  'modtype': 'fir_compiler',\n",
       "  'pi': [5]},\n",
       " 'axis_data_fifo': {'pi': [0],\n",
       "  'dfx': False,\n",
       "  'loaded': True,\n",
       "  'modtype': 'axis_data_fifo',\n",
       "  'ci': [5]},\n",
       " 'fir_lowpass': {'ci': [1],\n",
       "  'dfx': False,\n",
       "  'loaded': True,\n",
       "  'modtype': 'fir_compiler',\n",
       "  'pi': [3]},\n",
       " 'fir_highpass': {'ci': [2],\n",
       "  'dfx': False,\n",
       "  'loaded': True,\n",
       "  'modtype': 'fir_compiler',\n",
       "  'pi': [4]},\n",
       " 'fir_bandpass': {'pi': [2],\n",
       "  'dfx': False,\n",
       "  'loaded': True,\n",
       "  'modtype': 'fir_compiler',\n",
       "  'ci': [4]},\n",
       " 'ps_in': {'dfx': False,\n",
       "  'loaded': True,\n",
       "  'modtype': 'axi_dma',\n",
       "  'ci': [3],\n",
       "  'default': True,\n",
       "  'fullpath': 'axi_dma'},\n",
       " 'ps_out': {'pi': [1],\n",
       "  'dfx': False,\n",
       "  'loaded': True,\n",
       "  'modtype': 'axi_dma',\n",
       "  'default': True,\n",
       "  'fullpath': 'axi_dma'}}"
      ]
     },
     "execution_count": 8,
     "metadata": {
      "application/json": {
       "expanded": false,
       "root": "filter"
      }
     },
     "output_type": "execute_result"
    }
   ],
   "source": [
    "cfilter.c_dict"
   ]
  },
  {
   "cell_type": "markdown",
   "id": "360a5e06-40d2-4553-8a74-b2f166a3510c",
   "metadata": {},
   "source": [
    "As displayed above, the design has four FIR that are available.\n",
    "- Bandpass\n",
    "- Lowpass\n",
    "- Highpass\n",
    "- Stoppass\n",
    "\n",
    "Filters are designed with a sampling frequency of 44,100 Hz."
   ]
  },
  {
   "cell_type": "markdown",
   "id": "f818093b-748a-4ea1-a061-67ae557f7302",
   "metadata": {},
   "source": [
    "## FIR filters Frequency response\n",
    "\n",
    "The Frequency response of the four filters is shown below"
   ]
  },
  {
   "cell_type": "code",
   "execution_count": 9,
   "id": "ee3ce5fd-9b53-4551-ba89-e1fad6c650b6",
   "metadata": {},
   "outputs": [
    {
     "data": {
      "image/png": "[encoded data removed]",
      "text/plain": [
       "<Figure size 1080x648 with 4 Axes>"
      ]
     },
     "metadata": {
      "needs_background": "light"
     },
     "output_type": "display_data"
    }
   ],
   "source": [
    "f = fir.Filters()\n",
    "\n",
    "f.plot()"
   ]
  },
  {
   "cell_type": "markdown",
   "id": "2af30659-6aa8-4cab-adb4-97e3ec3e16bf",
   "metadata": {},
   "source": [
    "## Create tones\n",
    "\n",
    "Let's create sample tones to test the filters"
   ]
  },
  {
   "cell_type": "code",
   "execution_count": 2,
   "id": "b311bea2-dc00-4ad2-9a73-c6369b1c4933",
   "metadata": {},
   "outputs": [],
   "source": [
    "f0, f1, f2, f3 = 1000, 4000, 6000, 8000"
   ]
  },
  {
   "cell_type": "code",
   "execution_count": 3,
   "id": "df7c7ea4-0dc4-41e6-be5f-f265f3c7bacd",
   "metadata": {},
   "outputs": [],
   "source": [
    "samples = 128\n",
    "fs = 44100\n",
    "ix = np.arange(samples)\n",
    "tone_0 = np.int32( 800 * np.sin(2 * np.pi * f0 * ix / fs))\n",
    "tone_1 = np.int32( 1200 * np.sin(2 * np.pi * f1 * ix / fs))\n",
    "tone_2 = np.int32( -555 * np.sin(2 * np.pi * f2 * ix / fs))\n",
    "tone_3 = np.int32( 68 * np.sin(2 * np.pi * f3 * ix / fs))"
   ]
  },
  {
   "cell_type": "code",
   "execution_count": null,
   "id": "c88ee13e-968e-48ce-93f0-342174aab12c",
   "metadata": {},
   "outputs": [],
   "source": [
    "plt.figure(figsize=(20, 5));\n",
    "plt.plot(ix*1000/fs, tone_0, 'o', label = str(f0) + ' Hz');\n",
    "plt.plot(ix*1000/fs, tone_1, 'o', label = str(f1) + ' Hz');\n",
    "plt.plot(ix*1000/fs, tone_2, 'o', label = str(f2) + ' Hz');\n",
    "plt.plot(ix*1000/fs, tone_3, 'o', label = str(f3) + ' Hz');\n",
    "plt.title(\"Tones\");\n",
    "plt.xlabel(\"Time (ms)\");\n",
    "plt.ylabel(\"Amplitude\");\n",
    "plt.legend();"
   ]
  },
  {
   "cell_type": "markdown",
   "id": "f500af57-8fbb-406e-b404-14670e4351aa",
   "metadata": {},
   "source": [
    "## Compose\n",
    "\n",
    "Let's start with a lowpass filter"
   ]
  },
  {
   "cell_type": "code",
   "execution_count": 12,
   "id": "d0e666f4-db5d-4bb5-bb37-b6900c83ff3c",
   "metadata": {},
   "outputs": [
    {
     "data": {
      "image/svg+xml": [
       "<?xml version=\"1.0\" encoding=\"UTF-8\" standalone=\"no\"?>\n",
       "<!DOCTYPE svg PUBLIC \"-//W3C//DTD SVG 1.1//EN\"\n",
       " \"http://www.w3.org/Graphics/SVG/1.1/DTD/svg11.dtd\">\n",
       "<!-- Generated by graphviz version 2.43.0 (0)\n",
       " -->\n",
       "<!-- Title: %3 Pages: 1 -->\n",
       "<svg width=\"439pt\" height=\"44pt\"\n",
       " viewBox=\"0.00 0.00 439.00 44.00\" xmlns=\"http://www.w3.org/2000/svg\" xmlns:xlink=\"http://www.w3.org/1999/xlink\">\n",
       "<g id=\"graph0\" class=\"graph\" transform=\"scale(1 1) rotate(0) translate(4 40)\">\n",
       "<title>%3</title>\n",
       "<polygon fill=\"white\" stroke=\"transparent\" points=\"-4,4 -4,-40 435,-40 435,4 -4,4\"/>\n",
       "<!-- ps_in -->\n",
       "<g id=\"node1\" class=\"node\">\n",
       "<title>ps_in</title>\n",
       "<polygon fill=\"none\" stroke=\"black\" points=\"54,-36 0,-36 0,0 54,0 54,-36\"/>\n",
       "<text text-anchor=\"middle\" x=\"27\" y=\"-14.3\" font-family=\"Times,serif\" font-size=\"14.00\">ps_in</text>\n",
       "</g>\n",
       "<!-- fir_lowpass -->\n",
       "<g id=\"node2\" class=\"node\">\n",
       "<title>fir_lowpass</title>\n",
       "<polygon fill=\"none\" stroke=\"black\" points=\"259,-36 163,-36 163,0 259,0 259,-36\"/>\n",
       "<text text-anchor=\"middle\" x=\"211\" y=\"-14.3\" font-family=\"Times,serif\" font-size=\"14.00\">fir_lowpass</text>\n",
       "</g>\n",
       "<!-- ps_in&#45;&gt;fir_lowpass -->\n",
       "<g id=\"edge1\" class=\"edge\">\n",
       "<title>ps_in&#45;&gt;fir_lowpass</title>\n",
       "<path fill=\"none\" stroke=\"green\" d=\"M54.08,-18C79.73,-18 119.75,-18 152.82,-18\"/>\n",
       "<polygon fill=\"green\" stroke=\"green\" points=\"152.83,-21.5 162.83,-18 152.83,-14.5 152.83,-21.5\"/>\n",
       "<text text-anchor=\"start\" x=\"72\" y=\"-21.8\" font-family=\"Times,serif\" font-size=\"14.00\" fill=\"green\">ci=3 pi=3</text>\n",
       "</g>\n",
       "<!-- ps_out -->\n",
       "<g id=\"node3\" class=\"node\">\n",
       "<title>ps_out</title>\n",
       "<polygon fill=\"none\" stroke=\"black\" points=\"431,-36 368,-36 368,0 431,0 431,-36\"/>\n",
       "<text text-anchor=\"middle\" x=\"399.5\" y=\"-14.3\" font-family=\"Times,serif\" font-size=\"14.00\">ps_out</text>\n",
       "</g>\n",
       "<!-- fir_lowpass&#45;&gt;ps_out -->\n",
       "<g id=\"edge2\" class=\"edge\">\n",
       "<title>fir_lowpass&#45;&gt;ps_out</title>\n",
       "<path fill=\"none\" stroke=\"green\" d=\"M259.06,-18C289.43,-18 328.55,-18 357.61,-18\"/>\n",
       "<polygon fill=\"green\" stroke=\"green\" points=\"357.83,-21.5 367.83,-18 357.83,-14.5 357.83,-21.5\"/>\n",
       "<text text-anchor=\"start\" x=\"277\" y=\"-21.8\" font-family=\"Times,serif\" font-size=\"14.00\" fill=\"green\">ci=1 pi=1</text>\n",
       "</g>\n",
       "</g>\n",
       "</svg>\n"
      ],
      "text/plain": [
       "<graphviz.graphs.Digraph at 0xffff80fd3b20>"
      ]
     },
     "execution_count": 12,
     "metadata": {},
     "output_type": "execute_result"
    }
   ],
   "source": [
    "cfilter.compose([cfilter.ps_in, cfilter.fir_lowpass, cfilter.ps_out])\n",
    "\n",
    "cfilter.graph"
   ]
  },
  {
   "cell_type": "code",
   "execution_count": 13,
   "id": "0ea551f9-cc8b-43b4-9f25-fda62a88dbb1",
   "metadata": {},
   "outputs": [],
   "source": [
    "dma_send = ol.axi_dma.sendchannel\n",
    "dma_recv = ol.axi_dma.recvchannel"
   ]
  },
  {
   "cell_type": "code",
   "execution_count": 14,
   "id": "3d1a4195-dddd-4c51-90c7-ce6519510c8e",
   "metadata": {},
   "outputs": [],
   "source": [
    "input_buffer = allocate(shape=(samples,), dtype=np.int32)\n",
    "output_buffer = allocate(shape=(samples,), dtype=np.int32)\n",
    "input_buffer[:] = tone_0"
   ]
  },
  {
   "cell_type": "code",
   "execution_count": 15,
   "id": "bfdc8559-6582-41ff-98d5-3dbd713f5190",
   "metadata": {},
   "outputs": [],
   "source": [
    "dma_recv.transfer(output_buffer)\n",
    "dma_send.transfer(input_buffer)"
   ]
  },
  {
   "cell_type": "code",
   "execution_count": null,
   "id": "603e1d7d-a260-43ef-82d8-431c558b9ffe",
   "metadata": {},
   "outputs": [],
   "source": [
    "plt.figure(figsize=(20, 5));\n",
    "plt.plot(ix*1000/fs, output_buffer, 'o', label = 'Filter');\n",
    "plt.plot(ix*1000/fs, tone_0, 'o', label = 'Original');\n",
    "plt.title(\"Tones\");\n",
    "plt.xlabel(\"Time (ms)\");\n",
    "plt.ylabel(\"Amplitude\");\n",
    "plt.legend();"
   ]
  },
  {
   "cell_type": "markdown",
   "id": "785be115-61e5-47c4-abd4-a8d35417536f",
   "metadata": {},
   "source": [
    "Delay (in number of samples) of a linear-phase FIR is $\\frac{(N-1)}{2}$, where N is the number of taps. In our case N is 29, therefore the FIR filters in this desing have a 14 sample delay.\n"
   ]
  },
  {
   "cell_type": "code",
   "execution_count": null,
   "id": "38b66e0d-649e-495b-a523-c76da603bf0e",
   "metadata": {},
   "outputs": [],
   "source": [
    "cfilter.compose([cfilter.ps_in, cfilter.fir_highpass, cfilter.ps_out])\n",
    "cfilter.graph"
   ]
  },
  {
   "cell_type": "code",
   "execution_count": null,
   "id": "84c46ce5-d4cb-4c4a-8c2a-5af5a8cda1e7",
   "metadata": {},
   "outputs": [],
   "source": [
    "dma_recv.transfer(output_buffer)\n",
    "dma_send.transfer(input_buffer)"
   ]
  },
  {
   "cell_type": "code",
   "execution_count": null,
   "id": "e1aaed98-44ca-4deb-9c5b-1fcb884ed1f4",
   "metadata": {},
   "outputs": [],
   "source": [
    "plt.figure(figsize=(20, 5));\n",
    "plt.plot(ix*1000/fs, output_buffer, 'o', label = 'Filter');\n",
    "plt.plot(ix*1000/fs, tone_0, 'o', label = 'Original');\n",
    "plt.title(\"Tones\");\n",
    "plt.xlabel(\"Time (ms)\");\n",
    "plt.ylabel(\"Amplitude\");\n",
    "plt.legend();"
   ]
  },
  {
   "cell_type": "code",
   "execution_count": null,
   "id": "2e017407-7a4f-47b4-a219-ba806eabb7a7",
   "metadata": {},
   "outputs": [],
   "source": [
    "input_buffer[:] = tone_3\n",
    "dma_recv.transfer(output_buffer)\n",
    "dma_send.transfer(input_buffer)"
   ]
  },
  {
   "cell_type": "code",
   "execution_count": null,
   "id": "f6c96735-cccd-4988-885c-91d5ff1cc276",
   "metadata": {},
   "outputs": [],
   "source": [
    "plt.figure(figsize=(20, 5));\n",
    "plt.plot(ix*1000/fs, output_buffer, 'o', label = 'Filter');\n",
    "plt.plot(ix*1000/fs, tone_3, 'o', label = 'Original');\n",
    "plt.title(\"Tones\");\n",
    "plt.xlabel(\"Time (ms)\");\n",
    "plt.ylabel(\"Amplitude\");\n",
    "plt.legend();"
   ]
  },
  {
   "cell_type": "markdown",
   "id": "880ab427-d98c-4b07-b6ec-7b20a3cbc3a1",
   "metadata": {},
   "source": [
    "## Working with real audio\n",
    "\n",
    "sudo apt-get install ffmpeg\n",
    "install `python3 -m pip install audio2numpy`\n",
    "\n",
    "https://pixabay.com/music/introoutro-clip-02-newsflash-446/"
   ]
  },
  {
   "cell_type": "code",
   "execution_count": 105,
   "id": "d381f9be-84e0-474a-ad2a-6818049ef756",
   "metadata": {},
   "outputs": [],
   "source": [
    "from audio2numpy import open_audio\n",
    "from IPython.display import Audio\n",
    "fp = \"clip_02_newsflash-446.mp3\"\n",
    "signal, sampling_rate = open_audio(fp)"
   ]
  },
  {
   "cell_type": "code",
   "execution_count": 106,
   "id": "8d65cdc4-a6d7-4f91-9e2a-147738040dbf",
   "metadata": {},
   "outputs": [
    {
     "data": {
      "text/plain": [
       "44100"
      ]
     },
     "execution_count": 106,
     "metadata": {},
     "output_type": "execute_result"
    }
   ],
   "source": [
    "sampling_rate"
   ]
  },
  {
   "cell_type": "code",
   "execution_count": 108,
   "id": "a619ed4a-3490-446c-80b9-293f059d5985",
   "metadata": {},
   "outputs": [
    {
     "data": {
      "text/plain": [
       "(557568, 2)"
      ]
     },
     "execution_count": 108,
     "metadata": {},
     "output_type": "execute_result"
    }
   ],
   "source": [
    "signal.shape"
   ]
  },
  {
   "cell_type": "markdown",
   "id": "4efee6e1-0969-4e56-be77-a28b1bbdf524",
   "metadata": {},
   "source": [
    "Transpose the matrix to separate the channels"
   ]
  },
  {
   "cell_type": "code",
   "execution_count": 109,
   "id": "386dc6bd-e5de-42e1-bb08-0b12cd32174d",
   "metadata": {},
   "outputs": [],
   "source": [
    "samples= np.transpose(signal)"
   ]
  },
  {
   "cell_type": "markdown",
   "id": "1a7f849f-e8eb-4773-b6a8-b1ce0fe912f9",
   "metadata": {},
   "source": [
    "Allocate buffers and assign half of the samples to the input buffer"
   ]
  },
  {
   "cell_type": "code",
   "execution_count": 130,
   "id": "4ea3bcc6-bc8e-45b8-bfe4-8000af89209d",
   "metadata": {},
   "outputs": [],
   "source": [
    "shape = (len(samples[0])//2, )\n",
    "input_buffer = allocate(shape=shape, dtype=np.int32)\n",
    "output_buffer = allocate(shape=shape, dtype=np.int32)\n",
    "\n",
    "input_buffer[:] = np.int32(samples[0][0:len(samples[0])//2] * 100_000)"
   ]
  },
  {
   "cell_type": "markdown",
   "id": "5d408c45-54ab-457e-a540-4c5a7f39fc4d",
   "metadata": {},
   "source": [
    "Generate Audio widget for the samples"
   ]
  },
  {
   "cell_type": "code",
   "execution_count": null,
   "id": "c85ee80d-5cc0-4740-bde7-72dec0b59498",
   "metadata": {},
   "outputs": [],
   "source": [
    "Audio(input_buffer, rate=sampling_rate)"
   ]
  },
  {
   "cell_type": "markdown",
   "id": "1fceb3c1-8652-44ce-bcca-ee534dd36b2b",
   "metadata": {},
   "source": [
    "Compose with fifo"
   ]
  },
  {
   "cell_type": "code",
   "execution_count": 157,
   "id": "45ea0893-b39b-4ae9-a3fb-218f1da3a98a",
   "metadata": {},
   "outputs": [],
   "source": [
    "cfilter.compose([cfilter.ps_in, cfilter.axis_data_fifo, cfilter.ps_out])\n",
    "\n",
    "dma_recv.transfer(output_buffer)\n",
    "dma_send.transfer(input_buffer)\n",
    "dma_send.wait()\n",
    "dma_recv.wait()"
   ]
  },
  {
   "cell_type": "code",
   "execution_count": null,
   "id": "857c9fcb-5e08-4a23-8662-1a4efcc90c04",
   "metadata": {},
   "outputs": [],
   "source": [
    "Audio(output_buffer, rate=sampling_rate)"
   ]
  },
  {
   "cell_type": "code",
   "execution_count": null,
   "id": "8072226e-32f9-4eed-b5a2-b878b0772a57",
   "metadata": {},
   "outputs": [],
   "source": [
    "np.array_equal(input_buffer, output_buffer)"
   ]
  },
  {
   "cell_type": "markdown",
   "id": "07bec219-b9b5-4eb8-90d2-ae39ebd26c16",
   "metadata": {
    "tags": []
   },
   "source": [
    "Compose low pass filter and DMA samples"
   ]
  },
  {
   "cell_type": "code",
   "execution_count": 149,
   "id": "72176533-fd44-4415-88cb-afd4c35768d0",
   "metadata": {},
   "outputs": [],
   "source": [
    "cfilter.compose([cfilter.ps_in, cfilter.fir_lowpass, cfilter.ps_out])\n",
    "\n",
    "dma_recv.transfer(output_buffer)\n",
    "dma_send.transfer(input_buffer)\n",
    "dma_send.wait()\n",
    "dma_recv.wait()"
   ]
  },
  {
   "cell_type": "markdown",
   "id": "a146eeef-9657-4876-bd2d-d1c5c5e9e14d",
   "metadata": {},
   "source": [
    "Generate Audio widget for the outpur signals"
   ]
  },
  {
   "cell_type": "code",
   "execution_count": null,
   "id": "d38f49f6-af68-4f18-99ec-56ffb99ef982",
   "metadata": {},
   "outputs": [],
   "source": [
    "Audio(output_buffer, rate=sampling_rate)"
   ]
  },
  {
   "cell_type": "code",
   "execution_count": 151,
   "id": "aacf6b56-970a-4e92-8999-51c48ba7c0c1",
   "metadata": {},
   "outputs": [],
   "source": [
    "cfilter.compose([cfilter.ps_in, cfilter.fir_highpass, cfilter.ps_out])\n",
    "\n",
    "dma_recv.transfer(output_buffer)\n",
    "dma_send.transfer(input_buffer)\n",
    "dma_send.wait()\n",
    "dma_recv.wait()"
   ]
  },
  {
   "cell_type": "markdown",
   "id": "d6efdcde-707c-4c8a-adbb-f812fea96ce4",
   "metadata": {},
   "source": [
    "Generate Audio widget for the outpur signals"
   ]
  },
  {
   "cell_type": "code",
   "execution_count": null,
   "id": "e0ed8ea7-9dff-4bcd-8574-3ecb6bb7abec",
   "metadata": {},
   "outputs": [],
   "source": [
    "Audio(output_buffer, rate=sampling_rate)"
   ]
  },
  {
   "cell_type": "code",
   "execution_count": 153,
   "id": "4dade31f-b8ab-4e56-9360-f5cdb3315f93",
   "metadata": {},
   "outputs": [],
   "source": [
    "cfilter.compose([cfilter.ps_in, cfilter.fir_bandpass, cfilter.ps_out])\n",
    "\n",
    "dma_recv.transfer(output_buffer)\n",
    "dma_send.transfer(input_buffer)\n",
    "dma_send.wait()\n",
    "dma_recv.wait()"
   ]
  },
  {
   "cell_type": "markdown",
   "id": "2afc5bad-a9d5-4b9b-abb7-c7c7a8845e4c",
   "metadata": {},
   "source": [
    "Generate Audio widget for the outpur signals"
   ]
  },
  {
   "cell_type": "code",
   "execution_count": null,
   "id": "84abb7db-aeb4-4dcf-9f31-2fb2d7cf0569",
   "metadata": {},
   "outputs": [],
   "source": [
    "Audio(output_buffer, rate=sampling_rate)"
   ]
  },
  {
   "cell_type": "code",
   "execution_count": 155,
   "id": "b6d01af8-20ef-4473-a1f9-dd6227bc3d40",
   "metadata": {},
   "outputs": [],
   "source": [
    "cfilter.compose([cfilter.ps_in, cfilter.fir_stopband, cfilter.ps_out])\n",
    "\n",
    "dma_recv.transfer(output_buffer)\n",
    "dma_send.transfer(input_buffer)\n",
    "dma_send.wait()\n",
    "dma_recv.wait()"
   ]
  },
  {
   "cell_type": "markdown",
   "id": "0a85e9d6-652a-4e6e-9a69-03d9eb27dcd0",
   "metadata": {},
   "source": [
    "Generate Audio widget for the outpur signals"
   ]
  },
  {
   "cell_type": "code",
   "execution_count": null,
   "id": "feb1ad41-2a55-4df1-a1b9-e6ba028fcd3c",
   "metadata": {},
   "outputs": [],
   "source": [
    "Audio(output_buffer, rate=sampling_rate)"
   ]
  }
 ],
 "metadata": {
  "kernelspec": {
   "display_name": "Python 3",
   "language": "python",
   "name": "python3"
  },
  "language_info": {
   "codemirror_mode": {
    "name": "ipython",
    "version": 3
   },
   "file_extension": ".py",
   "mimetype": "text/x-python",
   "name": "python",
   "nbconvert_exporter": "python",
   "pygments_lexer": "ipython3",
   "version": "3.8.10"
  }
 },
 "nbformat": 4,
 "nbformat_minor": 5
}
